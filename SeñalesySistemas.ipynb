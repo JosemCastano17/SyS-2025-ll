{
  "nbformat": 4,
  "nbformat_minor": 0,
  "metadata": {
    "colab": {
      "provenance": [],
      "toc_visible": true,
      "authorship_tag": "ABX9TyOfAJ9kIygFUhKJRPwEfC88",
      "include_colab_link": true
    },
    "kernelspec": {
      "name": "python3",
      "display_name": "Python 3"
    },
    "language_info": {
      "name": "python"
    }
  },
  "cells": [
    {
      "cell_type": "markdown",
      "metadata": {
        "id": "view-in-github",
        "colab_type": "text"
      },
      "source": [
        "<a href=\"https://colab.research.google.com/github/JosemCastano17/SyS-2025-ll/blob/main/Se%C3%B1alesySistemas.ipynb\" target=\"_parent\"><img src=\"https://colab.research.google.com/assets/colab-badge.svg\" alt=\"Open In Colab\"/></a>"
      ]
    },
    {
      "cell_type": "markdown",
      "source": [
        "# Clases\n"
      ],
      "metadata": {
        "id": "gFHWBTKUS-Mo"
      }
    },
    {
      "cell_type": "markdown",
      "source": [
        "##02/09/2025"
      ],
      "metadata": {
        "id": "l8e1Flwkcovq"
      }
    },
    {
      "cell_type": "markdown",
      "source": [
        "Para el primer parte del curso estudiar [Python_Basics\n",
        "](https://github.com/amalvarezme/Python_Basics) Del cuaderno 1 hasta el 8"
      ],
      "metadata": {
        "id": "XOsicVBXO0X-"
      }
    },
    {
      "cell_type": "markdown",
      "source": [
        "Si vamos a usar o trabajar sobre un cuaderno ubicado en GitHub lo mas recomendable es hacer una copia en drive:\n",
        "\n",
        "**Archivo > Guardar una copia en drive**"
      ],
      "metadata": {
        "id": "aTxbWx06YXBB"
      }
    },
    {
      "cell_type": "markdown",
      "source": [
        "### Kaggle\n",
        "\n",
        "Red social orientado a LLMs y otra version de Nothebook, usado principalmente para correr en segundo plano procesos sin estar pendiente de que nos cierren la maquin.  \n",
        "\n",
        "\n",
        "**Usuario:** Correo institucional\n",
        "\n",
        "**Clave:** correo Institucional\n",
        "\n",
        "**OJO**\n",
        "\n",
        "Antes del primer parcial enviar al correo del profesor los certificados 1 y 2 (semana 6) del siguiente [link ](https://www.kaggle.com/learn)"
      ],
      "metadata": {
        "id": "ibT3qB5AYxa5"
      }
    },
    {
      "cell_type": "markdown",
      "source": [
        "### GitHub\n",
        "\n",
        "Los proyectos y trabajos realizados se suben al repositorio personal de GitHub para la entrega de los trabajos"
      ],
      "metadata": {
        "id": "eDf3wjhlcPLx"
      }
    },
    {
      "cell_type": "markdown",
      "metadata": {
        "id": "t2pmqZ1sSALd"
      },
      "source": [
        "## Introducción a la programación - Señales y Sistemas\n",
        "\n",
        "- ## [Librería numpy](https://numpy.org/) (señales digitales discretas)\n",
        "\n",
        "- ## [Librería sympy](https://www.sympy.org/es/) (emular señales continuas)"
      ]
    },
    {
      "cell_type": "code",
      "source": [
        "import numpy as np # importar libreria numpy\n",
        "x = 30 #tipo int\n",
        "y = 36.5 #tipo float\n",
        "\n",
        "print(type(x),type(y)) #imprimir en pantalla"
      ],
      "metadata": {
        "colab": {
          "base_uri": "https://localhost:8080/"
        },
        "id": "d_IJ3uTMdfHh",
        "outputId": "6a556a94-8f5f-4473-e3c4-0710a55c820a"
      },
      "execution_count": 3,
      "outputs": [
        {
          "output_type": "stream",
          "name": "stdout",
          "text": [
            "<class 'int'> <class 'float'>\n"
          ]
        }
      ]
    },
    {
      "cell_type": "markdown",
      "metadata": {
        "id": "opLxJCCATLiT"
      },
      "source": [
        "# Arreglo de datos en numpy\n",
        "\n",
        "- Señales en continuo\n",
        "\n",
        "  $x(t) \\in \\mathbb{R}, \\mathbb{C}$\n",
        "\n",
        "  $t \\in \\mathbb{R}$\n",
        "\n",
        "- Señales discretas (Restringe solo el tiempo)\n",
        "\n",
        "  $x[t_k] \\in \\mathbb{R}, \\mathbb{C}$  \n",
        "\n",
        "  $t \\in \\{t_0,t_1,\\dots,t_{K-1}\\}$; $K \\in \\mathbb{N}$ muestras\n",
        "\n",
        "- Señales digitales (Restringe Tanto el tiempo y amplitud)\n",
        "\n",
        "  $x[t_k] \\in \\{x_0,x_1,\\dots,x_{P-1}\\};$ $P\\in \\mathbb{N}$ estados según cantidad de bits del sistema de proceso\n",
        "\n",
        "  $t \\in \\{t_0,t_1,\\dots,t_{K-1}\\}$; $K \\in \\mathbb{N}$ muestras"
      ]
    }
  ]
}